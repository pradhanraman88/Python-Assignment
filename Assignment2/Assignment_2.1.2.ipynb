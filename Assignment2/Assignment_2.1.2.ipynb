{
 "cells": [
  {
   "cell_type": "code",
   "execution_count": 23,
   "metadata": {},
   "outputs": [
    {
     "name": "stdout",
     "output_type": "stream",
     "text": [
      "['A', 'C', 'A', 'D', 'G', 'I', 'L', 'D']\n",
      "['x', 'xx', 'xxx', 'xxxx', 'y', 'yy', 'yyy', 'yyyy', 'z', 'zz', 'zzz', 'zzzz']\n",
      "['x', 'y', 'z', 'xx', 'yy', 'zz', 'xx', 'yy', 'zz', 'xxxx', 'yyyy', 'zzzz']\n",
      "[[2], [3], [4], [3], [4], [5], [4], [5], [6]]\n",
      "[[2, 3, 4, 5], [3, 4, 5, 6], [4, 5, 6, 7], [5, 6, 7, 8]]\n",
      "[(1, 1), (2, 1), (3, 1), (1, 2), (2, 2), (3, 2), (1, 3), (2, 3), (3, 3)]\n"
     ]
    }
   ],
   "source": [
    "# # Assignment 2 Task 2.1.2 :Implement List comprehensions to produce the following lists.\n",
    "\n",
    "word = \"ACADGILD\"\n",
    "list1 = [ letter for letter in word ]\n",
    "print (list1)\n",
    "\n",
    "###############################################\n",
    "list2 = range(1,5)\n",
    "list_letter = ['x','y','z']\n",
    "print([i*j for i in list_letter for j in list2]) \n",
    "\n",
    "######################################################\n",
    "list3 = range(1,3)\n",
    "list4 = range(1,3)\n",
    "list_letter2 = ['x','y','z']\n",
    "print([k*j*i for i in list4 for j in list3 for k in list_letter2])\n",
    "\n",
    "########################################################\n",
    "\n",
    "list5=range(2,5)\n",
    "list6=range(3)\n",
    "print([[i+j] for i in list5 for j in list6])\n",
    "\n",
    "####################################################\n",
    "list7 = [2,3,4,5]\n",
    "result = [ [i + num for i in list7] for num in range(0,4)  ]\n",
    "print((result))\n",
    "\n",
    "#####################################################\n",
    "list8=[1,2,3]\n",
    "list9=[1,2,3]\n",
    "print([(j,i) for i in list8 for j in list9])\n",
    "\n",
    "\n",
    "\n"
   ]
  },
  {
   "cell_type": "code",
   "execution_count": null,
   "metadata": {},
   "outputs": [],
   "source": []
  }
 ],
 "metadata": {
  "kernelspec": {
   "display_name": "Python 3",
   "language": "python",
   "name": "python3"
  },
  "language_info": {
   "codemirror_mode": {
    "name": "ipython",
    "version": 3
   },
   "file_extension": ".py",
   "mimetype": "text/x-python",
   "name": "python",
   "nbconvert_exporter": "python",
   "pygments_lexer": "ipython3",
   "version": "3.7.6"
  }
 },
 "nbformat": 4,
 "nbformat_minor": 4
}
