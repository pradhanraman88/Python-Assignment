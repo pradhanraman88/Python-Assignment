{
 "cells": [
  {
   "cell_type": "code",
   "execution_count": null,
   "metadata": {},
   "outputs": [],
   "source": [
    "# Session 1: Assignment 1 Task 2.3\n",
    "word=input(\"Enter any word :\")\n",
    "print(\"Entered Word :\"+word)\n",
    "\n",
    "wordl=len(word)\n",
    "revsword=word[wordl::-1]\n",
    "\n",
    "print(\"Entered Word in reverse Order :\"+revsword)"
   ]
  }
 ],
 "metadata": {
  "kernelspec": {
   "display_name": "Python 3",
   "language": "python",
   "name": "python3"
  },
  "language_info": {
   "codemirror_mode": {
    "name": "ipython",
    "version": 3
   },
   "file_extension": ".py",
   "mimetype": "text/x-python",
   "name": "python",
   "nbconvert_exporter": "python",
   "pygments_lexer": "ipython3",
   "version": "3.7.6"
  }
 },
 "nbformat": 4,
 "nbformat_minor": 4
}
