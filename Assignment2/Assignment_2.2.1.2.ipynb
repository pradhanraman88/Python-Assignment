{
 "cells": [
  {
   "cell_type": "code",
   "execution_count": 7,
   "metadata": {},
   "outputs": [
    {
     "name": "stdout",
     "output_type": "stream",
     "text": [
      "New List of Words  => ['India', 'best', 'country']\n"
     ]
    }
   ],
   "source": [
    "## Assignment 2 Task 2.2.1.2:Write a function filter_long_words() that takes a list of words and an integer n and returns the list\n",
    "##of words that are longer than n.\n",
    "\n",
    "\n",
    "class word_list:\n",
    " def __init__(self, wordlist):\n",
    "  self.wordlist = wordlist\n",
    "\n",
    " def filter_long_words(self, n):\n",
    "  return list(filter(lambda x:len(x) > n, self.wordlist))\n",
    "\n",
    "WList = word_list([\"India\",\"is \",\"the\",\"best\",\"country\"])\n",
    "\n",
    "print (\"New List of Words  => \" + str(WList.filter_long_words(3)) ) "
   ]
  },
  {
   "cell_type": "code",
   "execution_count": null,
   "metadata": {},
   "outputs": [],
   "source": []
  }
 ],
 "metadata": {
  "kernelspec": {
   "display_name": "Python 3",
   "language": "python",
   "name": "python3"
  },
  "language_info": {
   "codemirror_mode": {
    "name": "ipython",
    "version": 3
   },
   "file_extension": ".py",
   "mimetype": "text/x-python",
   "name": "python",
   "nbconvert_exporter": "python",
   "pygments_lexer": "ipython3",
   "version": "3.7.6"
  }
 },
 "nbformat": 4,
 "nbformat_minor": 4
}
