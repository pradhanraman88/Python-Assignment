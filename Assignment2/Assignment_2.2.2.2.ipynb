{
 "cells": [
  {
   "cell_type": "code",
   "execution_count": 3,
   "metadata": {},
   "outputs": [
    {
     "name": "stdout",
     "output_type": "stream",
     "text": [
      "Enter character: v\n",
      "v is not a vowel.\n"
     ]
    }
   ],
   "source": [
    "## Assignment 2 Task 2.2.2.2:Write a Python function which takes a character (i.e. a string of length 1) and returns True if it is\n",
    "##a vowel, False otherwise.\n",
    "\n",
    "def vowel_check(char):\n",
    " if(char == 'a' or char == 'e' or char == 'i' or char == 'o' or char == 'u'):\n",
    "  return True\n",
    " else:\n",
    "  return False\n",
    "\n",
    "char = input(\"Enter character: \");\n",
    "if (vowel_check(char)):\n",
    " print(char, \"is a vowel.\");\n",
    "else:\n",
    " print(char, \"is not a vowel.\"); "
   ]
  }
 ],
 "metadata": {
  "kernelspec": {
   "display_name": "Python 3",
   "language": "python",
   "name": "python3"
  },
  "language_info": {
   "codemirror_mode": {
    "name": "ipython",
    "version": 3
   },
   "file_extension": ".py",
   "mimetype": "text/x-python",
   "name": "python",
   "nbconvert_exporter": "python",
   "pygments_lexer": "ipython3",
   "version": "3.7.6"
  }
 },
 "nbformat": 4,
 "nbformat_minor": 4
}
