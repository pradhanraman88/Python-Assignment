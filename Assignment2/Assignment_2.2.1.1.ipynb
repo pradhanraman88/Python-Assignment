{
 "cells": [
  {
   "cell_type": "code",
   "execution_count": 10,
   "metadata": {},
   "outputs": [
    {
     "name": "stdout",
     "output_type": "stream",
     "text": [
      "Enter the length of side A: 3\n",
      "Enter the length of side B: 4\n",
      "Enter the length of side C: 5\n",
      "semi-perimeter:6.0\n",
      "Area of rectangle: 6.0\n"
     ]
    }
   ],
   "source": [
    "# # Assignment 2 Task 2.2.1.1 : Write a Python Program(with class concepts) to find the area of the triangle using the below formula.\n",
    "# area = (s*(s-a)*(s-b)*(s-c)) ** 0.5\n",
    "\n",
    "class Triangle:\n",
    "    def __init__(self,a,b,c):\n",
    "        self.a = a\n",
    "        self.b = b\n",
    "        self.c = c\n",
    "    def area(self):\n",
    "        s=(self.a + self.b + self.c) / 2\n",
    "        print(\"semi-perimeter:\" +str(s))\n",
    "        return((s*(s-self.a)*(s-self.b)*(s-self.c)) ** 0.5)\n",
    "        \n",
    "        \n",
    "a = float(input(\"Enter the length of side A: \"))\n",
    "b = float(input(\"Enter the length of side B: \"))\n",
    "c = float(input(\"Enter the length of side C: \"))\n",
    "\n",
    "obj = Triangle(a,b,c)\n",
    "print(\"Area of rectangle:\",obj.area())\n",
    "\n",
    "\n"
   ]
  },
  {
   "cell_type": "code",
   "execution_count": null,
   "metadata": {},
   "outputs": [],
   "source": []
  }
 ],
 "metadata": {
  "kernelspec": {
   "display_name": "Python 3",
   "language": "python",
   "name": "python3"
  },
  "language_info": {
   "codemirror_mode": {
    "name": "ipython",
    "version": 3
   },
   "file_extension": ".py",
   "mimetype": "text/x-python",
   "name": "python",
   "nbconvert_exporter": "python",
   "pygments_lexer": "ipython3",
   "version": "3.7.6"
  }
 },
 "nbformat": 4,
 "nbformat_minor": 4
}
