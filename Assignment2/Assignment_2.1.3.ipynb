{
 "cells": [
  {
   "cell_type": "code",
   "execution_count": 22,
   "metadata": {},
   "outputs": [
    {
     "name": "stdout",
     "output_type": "stream",
     "text": [
      "(11, 'RaipurIndia')\n"
     ]
    }
   ],
   "source": [
    " # Assignment 2 Task 2.1.2 : Implement a function longestWord() that takes a list of words and returns the longest one.\n",
    "\n",
    "def longest(str):\n",
    "    length=[]\n",
    "    for x in str:\n",
    "        length.append((len(x), x))\n",
    "        length.sort()\n",
    "    return max(length)\n",
    "\n",
    "print(longest([\"Raman\", \"Pradhan\", \"Raipur\", \"RaipurIndia\"]))\n",
    "    "
   ]
  }
 ],
 "metadata": {
  "kernelspec": {
   "display_name": "Python 3",
   "language": "python",
   "name": "python3"
  },
  "language_info": {
   "codemirror_mode": {
    "name": "ipython",
    "version": 3
   },
   "file_extension": ".py",
   "mimetype": "text/x-python",
   "name": "python",
   "nbconvert_exporter": "python",
   "pygments_lexer": "ipython3",
   "version": "3.7.6"
  }
 },
 "nbformat": 4,
 "nbformat_minor": 4
}
