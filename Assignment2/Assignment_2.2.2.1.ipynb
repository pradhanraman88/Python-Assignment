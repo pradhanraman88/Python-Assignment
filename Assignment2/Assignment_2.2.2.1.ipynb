{
 "cells": [
  {
   "cell_type": "code",
   "execution_count": 3,
   "metadata": {},
   "outputs": [
    {
     "name": "stdout",
     "output_type": "stream",
     "text": [
      "Enter the words : raman pradhan raipur\n",
      "word lengths in array => [5, 7, 6]\n"
     ]
    }
   ],
   "source": [
    "## Assignment 2 Task 2.2.2.1:Write a Python program using function concept that maps list of words into a list of integers\n",
    "##representing the lengths of the corresponding words .\n",
    "\n",
    "def words_length(wordlist):\n",
    " return list(map(lambda x: len(x), wordlist))\n",
    "\n",
    "wordlist= input(\"Enter the words : \").split()\n",
    "print (\"Word lengths in array => \" + str(words_length(wordlist)))"
   ]
  }
 ],
 "metadata": {
  "kernelspec": {
   "display_name": "Python 3",
   "language": "python",
   "name": "python3"
  },
  "language_info": {
   "codemirror_mode": {
    "name": "ipython",
    "version": 3
   },
   "file_extension": ".py",
   "mimetype": "text/x-python",
   "name": "python",
   "nbconvert_exporter": "python",
   "pygments_lexer": "ipython3",
   "version": "3.7.6"
  }
 },
 "nbformat": 4,
 "nbformat_minor": 4
}
