{
 "cells": [
  {
   "cell_type": "code",
   "execution_count": 1,
   "metadata": {},
   "outputs": [
    {
     "name": "stdout",
     "output_type": "stream",
     "text": [
      "Enter your First Name :raman\n",
      "Enter your Last Name: pradhan\n",
      "Name in correct Order :raman pradhan\n",
      "Name in reverse Order :namar nahdarp\n"
     ]
    }
   ],
   "source": [
    "# Session 1: Assignment 1 Task 1.3\n",
    "first_name=input(\"Enter your First Name :\")\n",
    "last_name=input(\"Enter your Last Name: \")\n",
    "\n",
    "name=(first_name +\" \"+ last_name)\n",
    "print(\"Name in correct Order :\"+name)\n",
    "\n",
    "first_namel=len(first_name)\n",
    "last_namel=len(last_name)\n",
    "revsfirst_name=first_name[first_namel::-1]\n",
    "revslast_name=last_name[last_namel::-1]\n",
    "\n",
    "revsname=(revsfirst_name +\" \"+ revslast_name)\n",
    "print(\"Name in reverse Order :\"+revsname)\n",
    "\n",
    "\n"
   ]
  }
 ],
 "metadata": {
  "kernelspec": {
   "display_name": "Python 3",
   "language": "python",
   "name": "python3"
  },
  "language_info": {
   "codemirror_mode": {
    "name": "ipython",
    "version": 3
   },
   "file_extension": ".py",
   "mimetype": "text/x-python",
   "name": "python",
   "nbconvert_exporter": "python",
   "pygments_lexer": "ipython3",
   "version": "3.7.6"
  }
 },
 "nbformat": 4,
 "nbformat_minor": 4
}
